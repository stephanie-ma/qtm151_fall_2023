{
 "cells": [
  {
   "attachments": {},
   "cell_type": "markdown",
   "metadata": {},
   "source": [
    "# <span style=\"color:darkblue\"> Lecture 18 - Connecting to SQL via Python </span>\n",
    "\n",
    "<font size = \"5\">\n",
    "\n",
    "In the past lectures:\n",
    "\n",
    "- We worked directly in SQL\n",
    "- Imported data\n",
    "- Carried out basic dataset operations\n",
    "\n",
    "In  this lecture we will run SQL from Python\n",
    "\n",
    "- Combine the best of both!\n",
    "- Learn about escape characters!"
   ]
  },
  {
   "cell_type": "markdown",
   "metadata": {},
   "source": [
    "# <span style=\"color:darkblue\"> I. Import Libraries and Data </span>\n"
   ]
  },
  {
   "attachments": {},
   "cell_type": "markdown",
   "metadata": {},
   "source": [
    "<font size = \"5\">\n",
    "\n",
    "Import libraries"
   ]
  },
  {
   "cell_type": "code",
   "execution_count": 1,
   "metadata": {},
   "outputs": [],
   "source": [
    "# psycogpg2 helps us process SQL commands to send to the server\n",
    "# sqlalchemy facilitates establishing a connection with the server\n",
    "\n",
    "import pandas as pd\n",
    "from sqlalchemy import create_engine\n",
    "from   sqlalchemy.engine import URL\n",
    "from   sqlalchemy import text"
   ]
  },
  {
   "attachments": {},
   "cell_type": "markdown",
   "metadata": {},
   "source": [
    "<font size = \"5\">\n",
    "\n",
    "Import Data"
   ]
  },
  {
   "cell_type": "code",
   "execution_count": 3,
   "metadata": {},
   "outputs": [],
   "source": [
    "# Import the two car racing datasets\n",
    "\n",
    "results = pd.read_csv(\"data_raw/results.csv\")\n",
    "races = pd.read_csv(\"data_raw/races.csv\")\n",
    "circuits = pd.read_csv(\"data_raw/circuits.csv\")"
   ]
  },
  {
   "attachments": {},
   "cell_type": "markdown",
   "metadata": {},
   "source": [
    "<font size = \"5\">\n",
    "\n",
    "Connect to SQL server"
   ]
  },
  {
   "cell_type": "code",
   "execution_count": 5,
   "metadata": {},
   "outputs": [
    {
     "ename": "ModuleNotFoundError",
     "evalue": "No module named 'psycopg2'",
     "output_type": "error",
     "traceback": [
      "\u001b[0;31m---------------------------------------------------------------------------\u001b[0m",
      "\u001b[0;31mModuleNotFoundError\u001b[0m                       Traceback (most recent call last)",
      "\u001b[1;32m/Users/stephanie/Desktop/qtm151_2023fall/lecture_18/lecture_18.ipynb Cell 8\u001b[0m line \u001b[0;36m1\n\u001b[1;32m      <a href='vscode-notebook-cell:/Users/stephanie/Desktop/qtm151_2023fall/lecture_18/lecture_18.ipynb#X10sZmlsZQ%3D%3D?line=0'>1</a>\u001b[0m \u001b[39m# Use the connection details to your server\u001b[39;00m\n\u001b[1;32m      <a href='vscode-notebook-cell:/Users/stephanie/Desktop/qtm151_2023fall/lecture_18/lecture_18.ipynb#X10sZmlsZQ%3D%3D?line=1'>2</a>\u001b[0m \u001b[39m# These are the default settings.\u001b[39;00m\n\u001b[1;32m      <a href='vscode-notebook-cell:/Users/stephanie/Desktop/qtm151_2023fall/lecture_18/lecture_18.ipynb#X10sZmlsZQ%3D%3D?line=2'>3</a>\u001b[0m \u001b[39m# \"postgresql\" is a fixed argument\u001b[39;00m\n\u001b[1;32m      <a href='vscode-notebook-cell:/Users/stephanie/Desktop/qtm151_2023fall/lecture_18/lecture_18.ipynb#X10sZmlsZQ%3D%3D?line=3'>4</a>\u001b[0m \u001b[39m# If you have a different host,database, username, or password,\u001b[39;00m\n\u001b[1;32m      <a href='vscode-notebook-cell:/Users/stephanie/Desktop/qtm151_2023fall/lecture_18/lecture_18.ipynb#X10sZmlsZQ%3D%3D?line=4'>5</a>\u001b[0m \u001b[39m# change the corresponding connection details\u001b[39;00m\n\u001b[1;32m      <a href='vscode-notebook-cell:/Users/stephanie/Desktop/qtm151_2023fall/lecture_18/lecture_18.ipynb#X10sZmlsZQ%3D%3D?line=6'>7</a>\u001b[0m url_server \u001b[39m=\u001b[39m URL\u001b[39m.\u001b[39mcreate(\n\u001b[1;32m      <a href='vscode-notebook-cell:/Users/stephanie/Desktop/qtm151_2023fall/lecture_18/lecture_18.ipynb#X10sZmlsZQ%3D%3D?line=7'>8</a>\u001b[0m     \u001b[39m\"\u001b[39m\u001b[39mpostgresql\u001b[39m\u001b[39m\"\u001b[39m,\n\u001b[1;32m      <a href='vscode-notebook-cell:/Users/stephanie/Desktop/qtm151_2023fall/lecture_18/lecture_18.ipynb#X10sZmlsZQ%3D%3D?line=8'>9</a>\u001b[0m     host \u001b[39m=\u001b[39m \u001b[39m'\u001b[39m\u001b[39mlocalhost\u001b[39m\u001b[39m'\u001b[39m,\n\u001b[0;32m   (...)\u001b[0m\n\u001b[1;32m     <a href='vscode-notebook-cell:/Users/stephanie/Desktop/qtm151_2023fall/lecture_18/lecture_18.ipynb#X10sZmlsZQ%3D%3D?line=11'>12</a>\u001b[0m     port \u001b[39m=\u001b[39m \u001b[39m5432\u001b[39m,\n\u001b[1;32m     <a href='vscode-notebook-cell:/Users/stephanie/Desktop/qtm151_2023fall/lecture_18/lecture_18.ipynb#X10sZmlsZQ%3D%3D?line=12'>13</a>\u001b[0m     password  \u001b[39m=\u001b[39m \u001b[39m'\u001b[39m\u001b[39m12345\u001b[39m\u001b[39m'\u001b[39m)\n\u001b[0;32m---> <a href='vscode-notebook-cell:/Users/stephanie/Desktop/qtm151_2023fall/lecture_18/lecture_18.ipynb#X10sZmlsZQ%3D%3D?line=14'>15</a>\u001b[0m connection \u001b[39m=\u001b[39m create_engine(url_server)\n",
      "File \u001b[0;32m<string>:2\u001b[0m, in \u001b[0;36mcreate_engine\u001b[0;34m(url, **kwargs)\u001b[0m\n",
      "File \u001b[0;32m~/anaconda3/lib/python3.11/site-packages/sqlalchemy/util/deprecations.py:309\u001b[0m, in \u001b[0;36mdeprecated_params.<locals>.decorate.<locals>.warned\u001b[0;34m(fn, *args, **kwargs)\u001b[0m\n\u001b[1;32m    302\u001b[0m     \u001b[39mif\u001b[39;00m m \u001b[39min\u001b[39;00m kwargs:\n\u001b[1;32m    303\u001b[0m         _warn_with_version(\n\u001b[1;32m    304\u001b[0m             messages[m],\n\u001b[1;32m    305\u001b[0m             versions[m],\n\u001b[1;32m    306\u001b[0m             version_warnings[m],\n\u001b[1;32m    307\u001b[0m             stacklevel\u001b[39m=\u001b[39m\u001b[39m3\u001b[39m,\n\u001b[1;32m    308\u001b[0m         )\n\u001b[0;32m--> 309\u001b[0m \u001b[39mreturn\u001b[39;00m fn(\u001b[39m*\u001b[39margs, \u001b[39m*\u001b[39m\u001b[39m*\u001b[39mkwargs)\n",
      "File \u001b[0;32m~/anaconda3/lib/python3.11/site-packages/sqlalchemy/engine/create.py:560\u001b[0m, in \u001b[0;36mcreate_engine\u001b[0;34m(url, **kwargs)\u001b[0m\n\u001b[1;32m    558\u001b[0m         \u001b[39mif\u001b[39;00m k \u001b[39min\u001b[39;00m kwargs:\n\u001b[1;32m    559\u001b[0m             dbapi_args[k] \u001b[39m=\u001b[39m pop_kwarg(k)\n\u001b[0;32m--> 560\u001b[0m     dbapi \u001b[39m=\u001b[39m dialect_cls\u001b[39m.\u001b[39mdbapi(\u001b[39m*\u001b[39m\u001b[39m*\u001b[39mdbapi_args)\n\u001b[1;32m    562\u001b[0m dialect_args[\u001b[39m\"\u001b[39m\u001b[39mdbapi\u001b[39m\u001b[39m\"\u001b[39m] \u001b[39m=\u001b[39m dbapi\n\u001b[1;32m    564\u001b[0m dialect_args\u001b[39m.\u001b[39msetdefault(\u001b[39m\"\u001b[39m\u001b[39mcompiler_linting\u001b[39m\u001b[39m\"\u001b[39m, compiler\u001b[39m.\u001b[39mNO_LINTING)\n",
      "File \u001b[0;32m~/anaconda3/lib/python3.11/site-packages/sqlalchemy/dialects/postgresql/psycopg2.py:782\u001b[0m, in \u001b[0;36mPGDialect_psycopg2.dbapi\u001b[0;34m(cls)\u001b[0m\n\u001b[1;32m    780\u001b[0m \u001b[39m@classmethod\u001b[39m\n\u001b[1;32m    781\u001b[0m \u001b[39mdef\u001b[39;00m \u001b[39mdbapi\u001b[39m(\u001b[39mcls\u001b[39m):\n\u001b[0;32m--> 782\u001b[0m     \u001b[39mimport\u001b[39;00m \u001b[39mpsycopg2\u001b[39;00m\n\u001b[1;32m    784\u001b[0m     \u001b[39mreturn\u001b[39;00m psycopg2\n",
      "\u001b[0;31mModuleNotFoundError\u001b[0m: No module named 'psycopg2'"
     ]
    }
   ],
   "source": [
    "# Use the connection details to your server\n",
    "# These are the default settings.\n",
    "# \"postgresql\" is a fixed argument\n",
    "# If you have a different host,database, username, or password,\n",
    "# change the corresponding connection details\n",
    "\n",
    "url_server = URL.create(\n",
    "    \"postgresql\",\n",
    "    host = 'localhost',\n",
    "    database = 'formula1',\n",
    "    username = 'postgres',\n",
    "    port = 5432,\n",
    "    password  = '12345')\n",
    "\n",
    "connection = create_engine(url_server)\n"
   ]
  },
  {
   "attachments": {},
   "cell_type": "markdown",
   "metadata": {},
   "source": [
    "<font size = \"5\">\n",
    "\n",
    "Upload data to SQL"
   ]
  },
  {
   "cell_type": "code",
   "execution_count": 6,
   "metadata": {},
   "outputs": [
    {
     "ename": "NameError",
     "evalue": "name 'connection' is not defined",
     "output_type": "error",
     "traceback": [
      "\u001b[0;31m---------------------------------------------------------------------------\u001b[0m",
      "\u001b[0;31mNameError\u001b[0m                                 Traceback (most recent call last)",
      "\u001b[1;32m/Users/stephanie/Desktop/qtm151_2023fall/lecture_18/lecture_18.ipynb Cell 10\u001b[0m line \u001b[0;36m7\n\u001b[1;32m      <a href='vscode-notebook-cell:/Users/stephanie/Desktop/qtm151_2023fall/lecture_18/lecture_18.ipynb#X12sZmlsZQ%3D%3D?line=0'>1</a>\u001b[0m \u001b[39m# Import the \"results\" table, with the name \"results_sql\"\u001b[39;00m\n\u001b[1;32m      <a href='vscode-notebook-cell:/Users/stephanie/Desktop/qtm151_2023fall/lecture_18/lecture_18.ipynb#X12sZmlsZQ%3D%3D?line=1'>2</a>\u001b[0m \u001b[39m# Con is an argument to specify the server connection\u001b[39;00m\n\u001b[1;32m      <a href='vscode-notebook-cell:/Users/stephanie/Desktop/qtm151_2023fall/lecture_18/lecture_18.ipynb#X12sZmlsZQ%3D%3D?line=2'>3</a>\u001b[0m \u001b[39m# \"if_exists\" is an option to replace the table if it already exists\u001b[39;00m\n\u001b[1;32m      <a href='vscode-notebook-cell:/Users/stephanie/Desktop/qtm151_2023fall/lecture_18/lecture_18.ipynb#X12sZmlsZQ%3D%3D?line=3'>4</a>\u001b[0m \u001b[39m# You can choose any name instead of \"results_sql\"\u001b[39;00m\n\u001b[1;32m      <a href='vscode-notebook-cell:/Users/stephanie/Desktop/qtm151_2023fall/lecture_18/lecture_18.ipynb#X12sZmlsZQ%3D%3D?line=5'>6</a>\u001b[0m results\u001b[39m.\u001b[39mto_sql(\u001b[39m'\u001b[39m\u001b[39mresults\u001b[39m\u001b[39m'\u001b[39m,\n\u001b[0;32m----> <a href='vscode-notebook-cell:/Users/stephanie/Desktop/qtm151_2023fall/lecture_18/lecture_18.ipynb#X12sZmlsZQ%3D%3D?line=6'>7</a>\u001b[0m                con \u001b[39m=\u001b[39m connection,\n\u001b[1;32m      <a href='vscode-notebook-cell:/Users/stephanie/Desktop/qtm151_2023fall/lecture_18/lecture_18.ipynb#X12sZmlsZQ%3D%3D?line=7'>8</a>\u001b[0m                if_exists\u001b[39m=\u001b[39m\u001b[39m'\u001b[39m\u001b[39mreplace\u001b[39m\u001b[39m'\u001b[39m,\n\u001b[1;32m      <a href='vscode-notebook-cell:/Users/stephanie/Desktop/qtm151_2023fall/lecture_18/lecture_18.ipynb#X12sZmlsZQ%3D%3D?line=8'>9</a>\u001b[0m                index\u001b[39m=\u001b[39m\u001b[39mFalse\u001b[39;00m)\n\u001b[1;32m     <a href='vscode-notebook-cell:/Users/stephanie/Desktop/qtm151_2023fall/lecture_18/lecture_18.ipynb#X12sZmlsZQ%3D%3D?line=10'>11</a>\u001b[0m \u001b[39m# Import \"races\"\u001b[39;00m\n\u001b[1;32m     <a href='vscode-notebook-cell:/Users/stephanie/Desktop/qtm151_2023fall/lecture_18/lecture_18.ipynb#X12sZmlsZQ%3D%3D?line=11'>12</a>\u001b[0m races\u001b[39m.\u001b[39mto_sql(\u001b[39m'\u001b[39m\u001b[39mraces\u001b[39m\u001b[39m'\u001b[39m, \n\u001b[1;32m     <a href='vscode-notebook-cell:/Users/stephanie/Desktop/qtm151_2023fall/lecture_18/lecture_18.ipynb#X12sZmlsZQ%3D%3D?line=12'>13</a>\u001b[0m              con \u001b[39m=\u001b[39m connection, \n\u001b[1;32m     <a href='vscode-notebook-cell:/Users/stephanie/Desktop/qtm151_2023fall/lecture_18/lecture_18.ipynb#X12sZmlsZQ%3D%3D?line=13'>14</a>\u001b[0m              if_exists\u001b[39m=\u001b[39m\u001b[39m'\u001b[39m\u001b[39mreplace\u001b[39m\u001b[39m'\u001b[39m,\n\u001b[1;32m     <a href='vscode-notebook-cell:/Users/stephanie/Desktop/qtm151_2023fall/lecture_18/lecture_18.ipynb#X12sZmlsZQ%3D%3D?line=14'>15</a>\u001b[0m              index\u001b[39m=\u001b[39m\u001b[39mFalse\u001b[39;00m)\n",
      "\u001b[0;31mNameError\u001b[0m: name 'connection' is not defined"
     ]
    }
   ],
   "source": [
    "# Import the \"results\" table, with the name \"results_sql\"\n",
    "# Con is an argument to specify the server connection\n",
    "# \"if_exists\" is an option to replace the table if it already exists\n",
    "# You can choose any name instead of \"results_sql\"\n",
    "\n",
    "results.to_sql('results',\n",
    "               con = connection,\n",
    "               if_exists='replace',\n",
    "               index=False)\n",
    "\n",
    "# Import \"races\"\n",
    "races.to_sql('races', \n",
    "             con = connection, \n",
    "             if_exists='replace',\n",
    "             index=False)"
   ]
  },
  {
   "attachments": {},
   "cell_type": "markdown",
   "metadata": {},
   "source": [
    "<font size = \"5\">\n",
    "\n",
    "Try it yourself!\n",
    "\n",
    "- Upload the \"circuits table\" into SQL <br>\n",
    "using \".to_sql()\""
   ]
  },
  {
   "cell_type": "code",
   "execution_count": 5,
   "metadata": {},
   "outputs": [],
   "source": [
    "# Write your own code\n",
    "circuits.to_sql('circuits', con = connection, if_exist)"
   ]
  },
  {
   "attachments": {},
   "cell_type": "markdown",
   "metadata": {},
   "source": [
    "# <span style=\"color:darkblue\"> II. \"Escape\" Characters </span>\n",
    "\n",
    "<font size = \"5\">\n",
    "\n",
    "- Backslash (\\\\) is known as an escape character\n",
    "- Used for special operations on strings\n",
    "- Great for working with text!"
   ]
  },
  {
   "attachments": {},
   "cell_type": "markdown",
   "metadata": {},
   "source": [
    "<font size = \"5\">\n",
    "\n",
    "Multi-line strings (\" \\ \")"
   ]
  },
  {
   "cell_type": "code",
   "execution_count": 6,
   "metadata": {},
   "outputs": [],
   "source": [
    "# Use a backslash to define strins over multiple lines\n",
    "# Do not include a space after \"\\\", otherwise it won't work.\n",
    "example_string = \"This is a string \\\n",
    "                  defined over multiple lines\""
   ]
  },
  {
   "attachments": {},
   "cell_type": "markdown",
   "metadata": {},
   "source": [
    "<font size = \"5\">\n",
    "\n",
    "\"Double quotes\" inside string"
   ]
  },
  {
   "cell_type": "code",
   "execution_count": 7,
   "metadata": {},
   "outputs": [
    {
     "name": "stdout",
     "output_type": "stream",
     "text": [
      "This will \"supposedly\" put double quotes inside a string\n"
     ]
    }
   ],
   "source": [
    "# Use a backslash + quotation \n",
    "\n",
    "example_double = \"This will \\\"supposedly\\\" put double quotes inside a string\"\n",
    "print(example_double)"
   ]
  },
  {
   "attachments": {},
   "cell_type": "markdown",
   "metadata": {},
   "source": [
    "<font size = \"5\" >\n",
    "'Single quotes' inside string"
   ]
  },
  {
   "cell_type": "code",
   "execution_count": 8,
   "metadata": {},
   "outputs": [
    {
     "name": "stdout",
     "output_type": "stream",
     "text": [
      "This will 'supposedly' put single quotes inside a string\n"
     ]
    }
   ],
   "source": [
    "# There is no need for a backslash given single quotes \n",
    "\n",
    "example_single = \"This will 'supposedly' put single quotes inside a string\"\n",
    "print(example_single)"
   ]
  },
  {
   "attachments": {},
   "cell_type": "markdown",
   "metadata": {},
   "source": [
    "<font size = \"5\">\n",
    "\n",
    "Try it yourself!\n",
    "\n",
    "- Print a string ``` SELECT \"driverId\" FROM results; ``` <br> \n",
    "using backslash"
   ]
  },
  {
   "cell_type": "code",
   "execution_count": 9,
   "metadata": {},
   "outputs": [],
   "source": [
    "# Write your own code\n"
   ]
  },
  {
   "attachments": {},
   "cell_type": "markdown",
   "metadata": {},
   "source": [
    "# <span style=\"color:darkblue\"> III. Data operations </span>\n",
    "\n",
    "<font size = \"5\">\n",
    "\n",
    "- In SQL, operations are often called \"queries\"\n"
   ]
  },
  {
   "attachments": {},
   "cell_type": "markdown",
   "metadata": {},
   "source": [
    "<font size = \"5\">\n",
    "\n",
    "Import Data from SQL"
   ]
  },
  {
   "cell_type": "code",
   "execution_count": 10,
   "metadata": {},
   "outputs": [],
   "source": [
    "# Use \"pd.read_sql()\"\n",
    "# - The first argument is string with instructions wrapped in text()\n",
    "#- The second argument is the server connection\n",
    "\n",
    "# Extract all data from a column\n",
    "example1 = pd.read_sql(text(\"SELECT * FROM results;\"), connection)\n",
    "\n",
    "# Extract a subset of columns\n",
    "example2 = pd.read_sql(text(\"SELECT points \\\n",
    "                             FROM results;\"), connection)\n",
    "\n",
    "# Subset based on a string condition\n",
    "example3 = pd.read_sql(text(\"SELECT * \\\n",
    "                             FROM races \\\n",
    "                             WHERE name = 'Abu Dhabi Grand Prix';\"), connection)\n",
    "\n",
    "# Note: (i) Remember to include \"\\\"  to be able to define\n",
    "#           strings over multiple lines\n",
    "#       (ii) We can include single quotations in the WHERE command\n",
    "#            without any additional escape characters"
   ]
  },
  {
   "attachments": {},
   "cell_type": "markdown",
   "metadata": {},
   "source": [
    "<font size = \"5\">\n",
    "\n",
    "Upper case columns\n",
    "\n",
    "- In SQL syntax we use double quotes e.g. ``` \"driverId\" ```\n",
    "- ```.read_sql()``` requires a string inside a string\n",
    "- To do so, use escape characters, e.g.   ``` \\\"driverId\\\" ```"
   ]
  },
  {
   "cell_type": "code",
   "execution_count": 11,
   "metadata": {},
   "outputs": [],
   "source": [
    "# Select a column\n",
    "example4 = pd.read_sql(text(\"SELECT \\\"driverId\\\" \\\n",
    "                             FROM results;\"), connection)\n",
    "\n",
    "# Compute an aggregate statistic\n",
    "example5 = pd.read_sql(text(\"SELECT AVG(points) as mean_points \\\n",
    "                             FROM results \\\n",
    "                             GROUP BY \\\"driverId\\\" ;\"), connection)\n"
   ]
  },
  {
   "attachments": {},
   "cell_type": "markdown",
   "metadata": {},
   "source": [
    "<font size = \"5\">\n",
    "\n",
    "Merge two datasets"
   ]
  },
  {
   "cell_type": "code",
   "execution_count": 12,
   "metadata": {},
   "outputs": [],
   "source": [
    "# Merge \n",
    "# Reference the column \\\"driverId\\\" with escape characters\n",
    "example6 = pd.read_sql(text(\"SELECT * \\\n",
    "                             FROM results \\\n",
    "                             LEFT JOIN races \\\n",
    "                             ON results.\\\"raceId\\\" = races.\\\"raceId\\\" ;\"), connection)\n",
    "\n",
    "# Merge a subset of columns\n",
    "# Use \"results_sql.*\" to select all columns from the primary dataset\n",
    "# Use \"races_sql.date\" to only select the \"date\" column from the secondary dataset \n",
    "\n",
    "example7 = pd.read_sql(text(\"SELECT results.*, races.date \\\n",
    "                             FROM results \\\n",
    "                             LEFT JOIN races \\\n",
    "                             ON results.\\\"raceId\\\" = races.\\\"raceId\\\" ;\"), connection)\n"
   ]
  },
  {
   "attachments": {},
   "cell_type": "markdown",
   "metadata": {},
   "source": [
    "<font size = \"5\">\n",
    "\n",
    "Try it yourself!\n",
    "\n",
    "- Practice the ```pd.read_sql()``` command\n",
    "- FROM results_sql compute the sum of points by <br>\n",
    "\"raceId\" <br>"
   ]
  },
  {
   "cell_type": "code",
   "execution_count": 13,
   "metadata": {},
   "outputs": [],
   "source": [
    "# Write your own code\n"
   ]
  },
  {
   "attachments": {},
   "cell_type": "markdown",
   "metadata": {},
   "source": [
    "<font size = \"5\">\n",
    "\n",
    "Try it yourself!\n",
    "\n",
    "- Practice the ```pd.read_sql()``` command\n",
    "- Merge \"races_sql\" and the circuits table on \"circuitId\" <br>\n",
    "tha you imported above using ```LEFT JOIN```"
   ]
  },
  {
   "cell_type": "code",
   "execution_count": 14,
   "metadata": {},
   "outputs": [],
   "source": [
    "# Write your own\n"
   ]
  },
  {
   "attachments": {},
   "cell_type": "markdown",
   "metadata": {},
   "source": [
    "# <span style=\"color:darkblue\"> IV. Additional Material </span>\n",
    "\n",
    "<font size = \"5\">\n",
    "\n",
    "More about SQL syntax\n",
    "\n",
    "https://www.w3schools.com/sql/"
   ]
  }
 ],
 "metadata": {
  "kernelspec": {
   "display_name": "base",
   "language": "python",
   "name": "python3"
  },
  "language_info": {
   "codemirror_mode": {
    "name": "ipython",
    "version": 3
   },
   "file_extension": ".py",
   "mimetype": "text/x-python",
   "name": "python",
   "nbconvert_exporter": "python",
   "pygments_lexer": "ipython3",
   "version": "3.11.0"
  },
  "orig_nbformat": 4
 },
 "nbformat": 4,
 "nbformat_minor": 2
}
